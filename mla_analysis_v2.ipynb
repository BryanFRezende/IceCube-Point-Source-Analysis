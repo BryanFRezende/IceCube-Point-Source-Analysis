{
 "cells": [
  {
   "cell_type": "code",
   "execution_count": 15,
   "metadata": {},
   "outputs": [],
   "source": [
    "import copy\n",
    "import time\n",
    "import numpy as np\n",
    "import matplotlib.pyplot as plt\n",
    "import numpy.lib.recfunctions as rf"
   ]
  },
  {
   "cell_type": "markdown",
   "metadata": {},
   "source": [
    "While in development, MLA is not available via pip, so to import it, you need to add the location of the repository on your local machine to the python path."
   ]
  },
  {
   "cell_type": "code",
   "execution_count": 2,
   "metadata": {},
   "outputs": [
    {
     "name": "stdout",
     "output_type": "stream",
     "text": [
      "Processing ./mla\n",
      "Requirement already satisfied: numpy in /opt/conda/lib/python3.8/site-packages (from mla-thejevans==0.0.1) (1.18.5)\n",
      "Requirement already satisfied: scipy in /opt/conda/lib/python3.8/site-packages (from mla-thejevans==0.0.1) (1.5.3)\n",
      "Building wheels for collected packages: mla-thejevans\n",
      "  Building wheel for mla-thejevans (setup.py) ... \u001b[?25ldone\n",
      "\u001b[?25h  Created wheel for mla-thejevans: filename=mla_thejevans-0.0.1-py3-none-any.whl size=28965 sha256=60ab60263ea58113617fd4d22d4dc97554dfafcf01f2978baa43e1719fc27024\n",
      "  Stored in directory: /tmp/pip-ephem-wheel-cache-m6syxbgs/wheels/8c/48/b3/9140259f9b0da6559e99825e8695b86a19be0cff6f5377a4a1\n",
      "Successfully built mla-thejevans\n",
      "Installing collected packages: mla-thejevans\n",
      "  Attempting uninstall: mla-thejevans\n",
      "    Found existing installation: mla-thejevans 0.0.1\n",
      "    Uninstalling mla-thejevans-0.0.1:\n",
      "      Successfully uninstalled mla-thejevans-0.0.1\n",
      "Successfully installed mla-thejevans-0.0.1\n"
     ]
    }
   ],
   "source": [
    "import os\n",
    "import sys\n",
    "# Install a pip package in the current Jupyter kernel\n",
    "import sys\n",
    "!{sys.executable} -m pip install ~/mla\n",
    "import mla"
   ]
  },
  {
   "cell_type": "markdown",
   "metadata": {},
   "source": [
    "The `EventModel` class in this implementation uses data, simulation, and grl numpy arrays. We need to load in some arrays to do an analysis, options for CVS or npy files"
   ]
  },
  {
   "cell_type": "code",
   "execution_count": 6,
   "metadata": {},
   "outputs": [
    {
     "name": "stdout",
     "output_type": "stream",
     "text": [
      "['/home/jovyan/data/icecube_10year_ps/events/IC86_V_exp.csv', '/home/jovyan/data/icecube_10year_ps/events/IC86_II_exp.csv', '/home/jovyan/data/icecube_10year_ps/events/IC86_III_exp.csv', '/home/jovyan/data/icecube_10year_ps/events/IC86_IV_exp.csv', '/home/jovyan/data/icecube_10year_ps/events/IC86_VI_exp.csv', '/home/jovyan/data/icecube_10year_ps/events/IC86_I_exp.csv', '/home/jovyan/data/icecube_10year_ps/events/IC86_VII_exp.csv']\n",
      "Keys available in data:\n",
      "('time', 'logE', 'angErr', 'ra', 'dec', 'azi', 'zen')\n",
      "Data NEvents: 897406\n",
      "[(55694.99190986, 4.55, 0.00349066, 4.2346051 , -0.3948982 , 1.32062083, 1.17533962)\n",
      " (55694.99825262, 2.96, 0.01570796, 4.80188946,  0.68259827, 0.79477058, 2.25346441)\n",
      " (55695.00023207, 2.87, 0.00837758, 1.61364416,  0.08201302, 3.99456997, 1.65272208)\n",
      " ...\n",
      " (58307.96355617, 2.88, 0.00523599, 5.37783066,  0.74251542, 0.96755818, 2.31441131)\n",
      " (58307.96397167, 2.98, 0.00366519, 5.79796632,  0.78051124, 0.54958673, 2.35289582)\n",
      " (58307.97260325, 3.28, 0.00436332, 3.72294437,  0.0821701 , 2.6782601 , 1.65141308)]\n",
      "\n",
      "Reduced the number of simulation events from  11595414 to 250000\n",
      "Keys available in simulation:\n",
      "['angErr', 'azi', 'dec', 'event', 'logE', 'ow', 'ra', 'run', 'subevent', 'time', 'trueDec', 'trueE', 'trueRa', 'zen']\n",
      "\n",
      "Sim NEvents: 250000\n",
      "('run', 'event', 'subevent', 'ra', 'dec', 'azi', 'zen', 'time', 'trueRa', 'trueDec', 'trueE', 'logE', 'angErr', 'ow')\n",
      "\n",
      "Keys available in GRL:\n",
      "('start', 'stop', 'events', 'livetime', 'run')\n",
      "[(55694.99047453, 55695.32498842, 145, 0.33451388999674236, 0)\n",
      " (55695.32548611, 55695.66137731, 132, 0.3358912000039709, 1)\n",
      " (55695.66188657, 55695.99623842, 123, 0.33435184999689227, 2) ...\n",
      " (58308.64268518, 58308.96300925, 0, 0.3203240700022434, 9196)\n",
      " (58308.96431712, 58309.0208912, 0, 0.05657408000115538, 9197)\n",
      " (58309.02457175, 58309.08234953, 0, 0.057777779999014456, 9198)]\n"
     ]
    },
    {
     "data": {
      "image/png": "[encoded data removed]",
      "text/plain": [
       "<Figure size 432x288 with 1 Axes>"
      ]
     },
     "metadata": {
      "needs_background": "light"
     },
     "output_type": "display_data"
    }
   ],
   "source": [
    "import glob\n",
    "def read_npy(filelist):\n",
    "    data = []\n",
    "    for f in sorted(filelist):\n",
    "        x = np.load(f)\n",
    "        if len(data) == 0: data = x.copy()\n",
    "        else: data = np.concatenate([data, x])\n",
    "    return data\n",
    "\n",
    "def read_csv(filelist):\n",
    "    np_dtype = np.float64\n",
    "    my_names = ['time', 'logE', 'angErr', 'ra', 'dec', 'azi', 'zen']\n",
    "    convert = lambda x: np.radians(float(x))\n",
    "    data = []\n",
    "    for f in sorted(filelist):\n",
    "        x = np.genfromtxt(f, names=my_names, dtype=np_dtype, skip_header = 1,\n",
    "                        converters={2: convert, 3: convert, 4: convert, 5: convert, 6: convert})\n",
    "        if len(data) == 0: data = x.copy()\n",
    "        else: data = np.concatenate([data, x])\n",
    "    return data[np.argsort(data['time'])]\n",
    "\n",
    "def read_uptime_csv(filelist):\n",
    "    np_dtype = np.float64\n",
    "    my_names = ['start', 'stop']\n",
    "    data = []\n",
    "    for f in sorted(filelist):\n",
    "        x = np.genfromtxt(f, names=my_names, dtype=np_dtype, skip_header = 1)\n",
    "        if len(data) == 0: data = x.copy()\n",
    "        else: data = np.concatenate([data, x])\n",
    "    return data[np.argsort(data['start'])]\n",
    "\n",
    "def read_mc(file, n_keep = 50000):\n",
    "    sim = np.load(file)\n",
    "    # Reduce the number of events in the simulation\n",
    "    # to a manageable level.\n",
    "    N = len(sim)\n",
    "    sim = np.random.choice(sim, n_keep)    # cut down to n_keep events\n",
    "    sim['ow'] /= float(n_keep)/float(N)    # correct the weights\n",
    "    print(\"Reduced the number of simulation events from \",\n",
    "         \"{} to {}\".format(N, len(sim)))\n",
    "    # Show the possible keys available here:\n",
    "    print(\"Keys available in simulation:\")\n",
    "    print(sorted(sim.dtype.names))\n",
    "    print()\n",
    "    return sim\n",
    "\n",
    "# Fix the 7yr data release good run lists, add livetime, events per run, and a psudeo-run number\n",
    "def fix_grl(data = data,raw_grl = raw_grl):\n",
    "    grl_run_index, counts = np.unique(np.searchsorted(raw_grl['start'], data['time']), return_counts=True)\n",
    "    pad_counts = np.zeros(len(raw_grl),dtype=int)\n",
    "    for idx,thiscnt in zip(grl_run_index,counts):\n",
    "        #print(idx,thiscnt)\n",
    "        pad_counts[idx-1] = int(thiscnt)\n",
    "    #print(pad_counts)\n",
    "    plt.hist(np.log10(counts),100,log=True)\n",
    "    plt.xlabel('log10(counts)')\n",
    "    plt.title('Event count per run')\n",
    "\n",
    "    livetime = raw_grl['stop'] - raw_grl['start']\n",
    "    run_number = range(len(raw_grl))\n",
    "    new_grl = rf.append_fields(raw_grl, ['events','livetime','run'], [pad_counts,livetime,run_number])\n",
    "    return new_grl\n",
    "\n",
    "#1 year data file from npy file\n",
    "DATA_PATH = \"/home/jovyan/data2\"\n",
    "data_file_1 = DATA_PATH + \"/IC86_*_exp.npy\"\n",
    "#data = read_npy(glob.glob(data_file_1))\n",
    "\n",
    "# 7 year data from CSV files\n",
    "DATA2_PATH = \"/home/jovyan/data/icecube_10year_ps\"\n",
    "data_files = DATA2_PATH + \"/events/IC86_*_exp.csv\"\n",
    "print(glob.glob(data_files))\n",
    "data = read_csv(glob.glob(data_files))\n",
    "\n",
    "print(\"Keys available in data:\")\n",
    "print(data.dtype.names)\n",
    "print('Data NEvents:',len(data))\n",
    "print(data)\n",
    "print()\n",
    "\n",
    "# Read in the MC files - these are the same regardless of data files \n",
    "sim_files = DATA_PATH + \"/IC86_2012_MC.npy\"\n",
    "sim = read_mc(sim_files, n_keep=250000)\n",
    "print('Sim NEvents:',len(sim))\n",
    "print(sim.dtype.names)\n",
    "print()\n",
    "\n",
    "# Read in the GRL file\n",
    "# 1 year data\n",
    "#grl = np.load(DATA_PATH + \"/IC86_2012_GRL.npy\")\n",
    "# 7 yr data\n",
    "grl_files = DATA2_PATH + \"/uptime/IC86_*_exp.csv\"\n",
    "raw_grl = read_uptime_csv(glob.glob(grl_files))\n",
    "grl = fix_grl(data=data,raw_grl=raw_grl)\n",
    "print(\"Keys available in GRL:\")\n",
    "print(grl.dtype.names)\n",
    "print(grl)"
   ]
  },
  {
   "cell_type": "markdown",
   "metadata": {},
   "source": [
    "To start an analysis, you need a `Source`, an `EventModel`, and a `TestStatistic`. Let's start with the `Source`. Currently, our software supports point-source objects only. "
   ]
  },
  {
   "cell_type": "code",
   "execution_count": 7,
   "metadata": {},
   "outputs": [],
   "source": [
    "source = mla.sources.Source(\n",
    "    name=\"TXS\",\n",
    "    ra=np.deg2rad(77.3583),\n",
    "    dec=np.deg2rad(5.6931)\n",
    ")"
   ]
  },
  {
   "cell_type": "markdown",
   "metadata": {},
   "source": [
    "Next, we need an `EventModel`. This is an object that holds everything that will be implemented by Michael's public data package. Once that is ready, We will make an `EventModel` object that interfaces with it, leaving the rest of our package the same.\n",
    "\n",
    "The only `EventModel` that is currently ready-to-go is the `I3EventModel` class. Building this object is probably the most complicated part of starting an analysis. Here is a list of parameters that it takes:\n",
    "\n",
    "Required:\n",
    "- `source`: A `Source` object\n",
    "- `data`: A numpy array of real events to be used for background event generation\n",
    "- `sim`: A numpy array of monte-carlo events to be used for signal event generation\n",
    "- `grl`: A numpy array of good runs to be used to select times of generated events\n",
    "- `gamma`: A number representing the assumed spectral index for calculating simulation event weights\n",
    "- `background_time_profile`: An object that is a subclass of `GenericProfile` representing the temporal PDF of the background events\n",
    "- `signal_time_profile`: A similar object for the signal events\n",
    "\n",
    "Optional:\n",
    "- `sampling_width`: The width in radians of a declination band used to filter out events far from the source to reduce computation time (default: 3 deg)\n",
    "- `background_sin_dec_bins`: Either a number of equally spaced bins to use, or an array of bin edges for creating a background spatial pdf in sin(declination) (default: 500)\n",
    "- `background_window`: A length of time (in MJD) to use to sample background events from prior to the time window of interest. Useful for analyses with short time windows that likely have more signal than usual. (default: 14)\n",
    "- `withinwindow`: A flag for choosing whether to use the events in the time window of interest as background, or to use the value in `background_window` to select a differnt background window. (default: False)\n",
    "- `signal_sin_dec_bins`: Either a number of equally spaced bins to use, or an array of bin edges for creating a grid of energy splines (default: 50)\n",
    "- `log_energy_bins`: Either a number of equally spaced bins to use, or an array of bin edges for creating a grid of energy splines (default: 50)\n",
    "- `gamma_bins`: Either a number of equally spaced bins to use, or an array of bin edges for creating a spline interpolation at each bin in the grid (default: 50)\n",
    "- `verbose`: A flag for printing status information while building the event model. (default: False)\n",
    "\n",
    "Before we can build an `I3EventModel`, we need time profiles for signal and background. We have these built-in options for time profiles:\n",
    "- `UniformProfile`: Takes a `start` in MJD and a `length` in MJD and represents a uniform distribution between those times.\n",
    "- `GaussProfile`: Takes a `mean` in MJD and a `sigma` in MJD and represents a normal distribution with those parameters.\n",
    "- `CustomProfile`: Takes a 1D-histogram in time as the shape of the pdf and an `offset` as a time shift of the histogram and represents a step-function distribution with the given parameters."
   ]
  },
  {
   "cell_type": "code",
   "execution_count": 8,
   "metadata": {},
   "outputs": [
    {
     "name": "stdout",
     "output_type": "stream",
     "text": [
      "Time window of:  2614.0918749999983  starting at MJD: 55694.99047453\n"
     ]
    },
    {
     "name": "stderr",
     "output_type": "stream",
     "text": [
      "/opt/conda/lib/python3.8/site-packages/mla/models.py:155: RuntimeWarning: invalid value encountered in greater\n",
      "  good = np.isfinite(ratio[i]) & (ratio[i] > 0)\n"
     ]
    }
   ],
   "source": [
    "# TXS analysis for 158 days at known published neutrino flare time\n",
    "#start = 56224\n",
    "#length = 158\n",
    "\n",
    "# Use all the data.  Use the GRL info\n",
    "start = grl['start'][0]\n",
    "length = grl[len(grl)-1][1] - start\n",
    "\n",
    "print('Time window of: ', length, ' starting at MJD:', start)\n",
    "\n",
    "\n",
    "background_time_profile = mla.time_profiles.UniformProfile(start, length)\n",
    "signal_time_profile = mla.time_profiles.UniformProfile(start, length)\n",
    "\n",
    "model = mla.models.I3EventModel(\n",
    "    source=source,\n",
    "    data=data,\n",
    "    sim=sim,\n",
    "    grl=grl,\n",
    "    gamma=-2,\n",
    "    background_time_profile=background_time_profile,\n",
    "    signal_time_profile=signal_time_profile,\n",
    "    sampling_width=np.radians(5),\n",
    "    withinwindow=True,\n",
    ")"
   ]
  },
  {
   "cell_type": "markdown",
   "metadata": {},
   "source": [
    "Finally, we need a `TestStatistic`. Currently, only a standard signal-over-background LLH test statistic is defined, `LLHTestStatistic`. This class is very flexible, though. During initialization, you give a list of likelihood terms as parameters. You can give as many or as few as you like, and in whatever order you like. Currently there are four available terms:\n",
    "\n",
    "- `SpatialTerm`: Takes no parameters. Uses the spatial pdfs defined in the `EventModel` to calculate a spatial signal-over-background ratio (sob)\n",
    "- `TimeTerm`: Takes as parameters both a signal and background time profile so that you can attempt to fit using different profiles than you gave to the `EventModel` for injecting events. Currently, this term allows for the signal time profile parameters to be fitting parameters, but not the background parameters.\n",
    "- `I3EnergyTerm`: Only works with `I3EventModel` models. Takes a default spectral index (`gamma`) as a parameter. This value can be a fitting parameter.\n",
    "- `threeml.test_statistics.ThreeMLEnergyTerm`: Only works with `threeml.models.ThreeMLEventModel` models. Takes no parameters."
   ]
  },
  {
   "cell_type": "code",
   "execution_count": 9,
   "metadata": {},
   "outputs": [],
   "source": [
    "bg_fit_time_pro = copy.deepcopy(background_time_profile)\n",
    "sig_fit_time_pro = copy.deepcopy(signal_time_profile)\n",
    "        \n",
    "ts = mla.test_statistics.LLHTestStatistic([\n",
    "    mla.test_statistics.SpatialTerm(),\n",
    "    mla.test_statistics.TimeTerm(\n",
    "        bg_fit_time_pro,\n",
    "        sig_fit_time_pro,\n",
    "    ),\n",
    "    mla.test_statistics.I3EnergyTerm(gamma=-2),\n",
    "])"
   ]
  },
  {
   "cell_type": "markdown",
   "metadata": {},
   "source": [
    "The `LLHTestStatistic` class also has $n_s$ as an optional fitting parameter. If you do not choose to fit it, the class will use a newton methods approach to find the best $n_s$ in every fitting step, which is generally faster.\n",
    "\n",
    "From here, we can put together what we have built into an `Analysis` object. The analysis should be static object to be shared between threads in multithreaded applications or sent as a pickle file to cluster jobs. Initialization is straightforward:"
   ]
  },
  {
   "cell_type": "code",
   "execution_count": 10,
   "metadata": {},
   "outputs": [],
   "source": [
    "analysis = mla.analysis.Analysis(\n",
    "    model=model,\n",
    "    test_statistic=ts,\n",
    "    source=source,\n",
    ")"
   ]
  },
  {
   "cell_type": "markdown",
   "metadata": {},
   "source": [
    "Now that you have an `Analysis`, you can start on your analysis!\n",
    "\n",
    "There are four basic functions available in the `analysis` module for this:\n",
    "- `produce_trial`: Takes an `Analysis` and optional parameters for injecting signal, either a `flux_norm` (time-integrated flux normalization) or `n_signal_observed` to set the number of signal events injected. Returns a numpy array of combined signal and background events.\n",
    "- `evaluate_ts`: Takes an `Analysis`, `events`, and `params` (manually-set fitting parameters). Returns a float test statistic value for the given events and parameters.\n",
    "- `minimize_ts`: Takes an `Analysis`, `events`, and optionally `test_params` and `bounds`. Uses an optional `minimizer` (`scipy.optimize.minimize` by default) to minimize the `test_params` within the `bounds`. Returns a dictionary of the bests test statistic value and the best-fit parameters (always returns best-fit $n_s$, even if it is not a fitting parameter).\n",
    "- `produce_and_minimize`: Takes an `Analysis`, a number of trials to run (`n_trials`), and optional parameters for `produce_trial` and `minimize_ts`. Returns a list of `minimize_ts` results, one for each trial.\n",
    "\n",
    "Parameters should be a structured numpy array, with `dtype` names matching the expected variable names in the test statistic terms. Examples:\n",
    "- for any test statistic: `ns`\n",
    "- for `I3EnergyTerm`: `gamma`\n",
    "- for `TimeTerm`: `mean`, `sigma`, `start`, `length`, `offset`\n",
    "\n",
    "Let's produce a trial and then minimize the test statistic:"
   ]
  },
  {
   "cell_type": "code",
   "execution_count": 11,
   "metadata": {},
   "outputs": [
    {
     "name": "stdout",
     "output_type": "stream",
     "text": [
      "898869\n",
      "[(56354.70290797396, 4.57, 0.004014257279586958, 3.961285391024209, -0.6038490146049981, 3.3368600903029186, 0.9657953948835821, -0.5678150118275092)\n",
      " (58240.87675497853, 2.91, 0.013439035240356337, 5.020151206581533, 0.5872160268334923, 3.36113762019816, 2.1587802984992663, 0.554045553308942)\n",
      " (57771.324986315565, 5.15, 0.011868238913561441, 4.242826961083578, -0.44010222418289013, 0.29255208921928955, 1.1316365804080832, -0.4260319503398421)\n",
      " ...\n",
      " (56678.778544913905, 3.490187834998276, 0.004753385586631981, 1.349080394991103, 0.09286693270494366, 0.47162337972291235, 1.6634947161558404, 0.09273350538012544)\n",
      " (58000.72749388881, 5.675048056339324, 0.007024505768170946, 1.3267943665869226, 0.09851827450136527, 1.2342420623289576, 1.6017126099710957, 0.09835898455073495)\n",
      " (57803.67556993097, 3.134797322620295, 0.006239234926773053, 1.344018408244747, 0.10449139980039977, 4.168117993379034, 1.6323366812211657, 0.1043013561793208)]\n",
      "('time', 'logE', 'angErr', 'ra', 'dec', 'azi', 'zen', 'sindec')\n"
     ]
    },
    {
     "data": {
      "image/png": "[encoded data removed]",
      "text/plain": [
       "<Figure size 432x288 with 1 Axes>"
      ]
     },
     "metadata": {
      "needs_background": "light"
     },
     "output_type": "display_data"
    },
    {
     "name": "stdout",
     "output_type": "stream",
     "text": [
      "[(32.38469002, 15.82037899)]\n"
     ]
    }
   ],
   "source": [
    "trial = mla.analysis.produce_trial(\n",
    "    analysis,\n",
    "    n_signal_observed=20,\n",
    ")\n",
    "print(len(trial))\n",
    "print(trial)\n",
    "print(trial.dtype.names)\n",
    "# Plot the trial events\n",
    "plt.scatter(trial['time'], trial['logE'])\n",
    "plt.xlabel('time (MJD)')\n",
    "plt.ylabel(r'$log_{10}E$')\n",
    "plt.show()\n",
    "\n",
    "# Generate parameter array for minimizing\n",
    "## Here: minimize both spectral index (gamma) and n_s\n",
    "#test_params = mla.generate_params(\n",
    "#            gamma=-2,\n",
    "#            ns=90,\n",
    "#        )\n",
    "#bounds = [(-4, -1), (0, 150)]\n",
    "\n",
    "## Here: just miminize n_s\n",
    "test_params = mla.generate_params(\n",
    "            ns=90\n",
    ")\n",
    "bounds = [(0, 150)]\n",
    "\n",
    "result = mla.analysis.minimize_ts(\n",
    "    analysis=analysis,\n",
    "    events=trial,\n",
    "    bounds=bounds,\n",
    "    test_params=test_params,\n",
    "    as_array=True,\n",
    "\n",
    ")\n",
    "\n",
    "print(result)"
   ]
  },
  {
   "cell_type": "markdown",
   "metadata": {},
   "source": [
    "Now, lets use `produce_and_minimize` to do the same with 10 trials:"
   ]
  },
  {
   "cell_type": "code",
   "execution_count": 12,
   "metadata": {},
   "outputs": [
    {
     "name": "stdout",
     "output_type": "stream",
     "text": [
      "(111.26228267, 52.63365135)\n",
      "(195.78602309, 59.14391908)\n",
      "(218.81084103, 65.91723922)\n",
      "(191.03378613, 55.99049159)\n",
      "(119.4965278, 60.32174704)\n",
      "(124.21542741, 51.67743456)\n",
      "(124.27080561, 52.9100794)\n",
      "(173.72738206, 58.1697983)\n",
      "(172.49973823, 55.30477504)\n",
      "(139.94265053, 51.46915947)\n"
     ]
    }
   ],
   "source": [
    "results = mla.produce_and_minimize(\n",
    "    analysis=analysis,\n",
    "    n_trials=10,\n",
    "    n_signal_observed=50,\n",
    "    bounds=bounds,\n",
    "    test_params=test_params,\n",
    "    as_array=True,\n",
    ")\n",
    "\n",
    "for result in results:\n",
    "    print(result)"
   ]
  },
  {
   "cell_type": "code",
   "execution_count": 18,
   "metadata": {},
   "outputs": [
    {
     "name": "stdout",
     "output_type": "stream",
     "text": [
      "Producing 100 trials n_inj = 50\n",
      "Producing 100 trials n_inj = 10\n",
      "Producing 100 trials n_inj = 5\n",
      "Producing 500 bg only trials\n",
      "This simulation took 00:37:46 to complete 800 trials.\n",
      "2266.7430789470673\n"
     ]
    }
   ],
   "source": [
    "# Produce and minimize n trials, then plot the ts distribution\n",
    "\n",
    "# Enter an integer value for the number of trials you want for...\n",
    "# (1) Trials involving injected signal\n",
    "n_inj_trials = 100\n",
    "\n",
    "# (2) Background only trials\n",
    "n_bkg_trials = 500\n",
    "\n",
    "# Get a timestamp before running to use later\n",
    "t_initial = time.time()\n",
    "\n",
    "print(\"Producing \" + str(n_inj_trials) + \" trials n_inj = 50\")\n",
    "best_fit_arr_50 = mla.produce_and_minimize(\n",
    "    analysis=analysis,\n",
    "    n_trials=n_inj_trials,\n",
    "    n_signal_observed=50,\n",
    "    bounds=bounds,\n",
    "    test_params=test_params,\n",
    "    as_array=True,\n",
    ")\n",
    "\n",
    "print(\"Producing \" + str(n_inj_trials) + \" trials n_inj = 10\")\n",
    "best_fit_arr_10 = mla.produce_and_minimize(\n",
    "    analysis=analysis,\n",
    "    n_trials=n_inj_trials,\n",
    "    n_signal_observed=10,\n",
    "    bounds=bounds,\n",
    "    test_params=test_params,\n",
    "    as_array=True,\n",
    ")\n",
    "\n",
    "print(\"Producing \" + str(n_inj_trials) + \" trials n_inj = 5\")\n",
    "best_fit_arr_5 = mla.produce_and_minimize(\n",
    "    analysis=analysis,\n",
    "    n_trials=n_inj_trials,\n",
    "    n_signal_observed=5,\n",
    "    bounds=bounds,\n",
    "    test_params=test_params,\n",
    "    as_array=True,\n",
    ")\n",
    "\n",
    "print(\"Producing \" + str(n_bkg_trials) + \" bg only trials\")\n",
    "best_fit_arr_bg = mla.produce_and_minimize(\n",
    "    analysis=analysis,\n",
    "    n_trials=n_bkg_trials,\n",
    "    n_signal_observed=0,\n",
    "    bounds=bounds,\n",
    "    test_params=test_params,\n",
    "    as_array=True,\n",
    ")\n",
    "\n",
    "# Get another timestamp and see how long the simulation took\n",
    "t_final = time.time()\n",
    "t_total = t_final - t_initial\n",
    "time_format = time.strftime(\"%H:%M:%S\", time.gmtime(t_total))\n",
    "tri_tot = (3 * n_inj_trials) + n_bkg_trials\n",
    "print(\"This simulation took \" + time_format + \" to complete \" + str(tri_tot) + \" trials.\")\n",
    "print(t_total)"
   ]
  },
  {
   "cell_type": "code",
   "execution_count": 19,
   "metadata": {},
   "outputs": [],
   "source": [
    "ts_bg, ns_bg = zip(*best_fit_arr_bg)\n",
    "ts_50, ns_50 = zip(*best_fit_arr_50)\n",
    "ts_10, ns_10 = zip(*best_fit_arr_10)\n",
    "ts_5, ns_5 = zip(*best_fit_arr_5)\n"
   ]
  },
  {
   "cell_type": "code",
   "execution_count": 20,
   "metadata": {},
   "outputs": [
    {
     "data": {
      "image/png": "[encoded data removed]",
      "text/plain": [
       "<Figure size 720x432 with 1 Axes>"
      ]
     },
     "metadata": {
      "needs_background": "light"
     },
     "output_type": "display_data"
    }
   ],
   "source": [
    "# Plot the signal and background LLHs\n",
    "fig, ax = plt.subplots(figsize=(10,6))\n",
    "bins = np.linspace(-5, 400, 150)\n",
    "\n",
    "ax.hist(ts_bg,\n",
    "        bins = bins,\n",
    "        weights = np.ones_like(ts_bg)/len(ts_bg),\n",
    "        histtype = 'step',\n",
    "        color = 'k',\n",
    "        linewidth = 3,\n",
    "        alpha=0.5,\n",
    "        label = r'N = 0',\n",
    "       )\n",
    "\n",
    "ax.hist(ts_50,\n",
    "        bins = bins,\n",
    "        weights = np.ones_like(ts_50)/len(ts_50),\n",
    "        histtype = 'step',\n",
    "        linewidth = 3,\n",
    "        alpha = 0.7,\n",
    "        label = r'N = 50')\n",
    "\n",
    "ax.hist(ts_10,\n",
    "        bins = bins,\n",
    "        weights = np.ones_like(ts_10)/len(ts_10),\n",
    "        histtype = 'step',\n",
    "        linewidth = 3,\n",
    "        alpha = 0.7,\n",
    "        label = r'N = 10')\n",
    "\n",
    "ax.hist(ts_5,\n",
    "        bins = bins,\n",
    "        weights = np.ones_like(ts_5)/len(ts_5),\n",
    "        histtype = 'step',\n",
    "        linewidth = 3,\n",
    "        alpha = 0.7,\n",
    "        label = r'N = 5')\n",
    "\n",
    "ax.legend(loc='upper right', fontsize=16,)\n",
    "plt.yscale('log')\n",
    "ax.grid(alpha=0.25)\n",
    "#ax.set_xlim(bins.min(), bins.max())\n",
    "ax.set_xlabel(\"TS\", fontsize=16)\n",
    "ax.set_ylabel(\"Fraction of Trials\", fontsize=16)\n",
    "ax.tick_params(which='both', labelsize=16)"
   ]
  },
  {
   "cell_type": "code",
   "execution_count": 21,
   "metadata": {},
   "outputs": [
    {
     "data": {
      "image/png": "[encoded data removed]",
      "text/plain": [
       "<Figure size 720x432 with 1 Axes>"
      ]
     },
     "metadata": {
      "needs_background": "light"
     },
     "output_type": "display_data"
    }
   ],
   "source": [
    "# Plot the best fit ns\n",
    "fig, ax = plt.subplots(figsize=(10,6))\n",
    "bins = np.linspace(-5, 60, 150)\n",
    "\n",
    "ax.hist(ns_bg,\n",
    "        bins = bins,\n",
    "        weights = np.ones_like(ns_bg)/len(ns_bg),\n",
    "        histtype = 'step',\n",
    "        color = 'k',\n",
    "        linewidth = 3,\n",
    "        alpha=0.5,\n",
    "        label = r'N = 0',\n",
    "       )\n",
    "\n",
    "ax.hist(ns_50,\n",
    "        bins = bins,\n",
    "        weights = np.ones_like(ns_50)/len(ns_50),\n",
    "        histtype = 'step',\n",
    "        linewidth = 3,\n",
    "        alpha = 0.7,\n",
    "        label = r'N = 50')\n",
    "\n",
    "ax.hist(ns_10,\n",
    "        bins = bins,\n",
    "        weights = np.ones_like(ns_10)/len(ns_10),\n",
    "        histtype = 'step',\n",
    "        linewidth = 3,\n",
    "        alpha = 0.7,\n",
    "        label = r'N = 10')\n",
    "\n",
    "ax.hist(ns_5,\n",
    "        bins = bins,\n",
    "        weights = np.ones_like(ns_5)/len(ns_5),\n",
    "        histtype = 'step',\n",
    "        linewidth = 3,\n",
    "        alpha = 0.7,\n",
    "        label = r'N = 5')\n",
    "\n",
    "ax.legend(loc='upper right', fontsize=16,)\n",
    "plt.yscale('log')\n",
    "ax.grid(alpha=0.25)\n",
    "#ax.set_xlim(bins.min(), bins.max())\n",
    "ax.set_xlabel(\"NS\", fontsize=16)\n",
    "ax.set_ylabel(\"Fraction of Trials\", fontsize=16)\n",
    "ax.tick_params(which='both', labelsize=16)"
   ]
  },
  {
   "cell_type": "markdown",
   "metadata": {},
   "source": [
    "Things to do:\n",
    "* (DONE) bring in 7 yrs of data (Erik will provide conversion from csv to npy tool)\n",
    "* (DONE) currently, this uses a 158d time window, want to use ALL data in a uniform time profile.\n",
    "* n_injected here is as \"n events\" -> option to use signal normalization\n",
    "\n",
    "Starting to setup an analysis\n",
    "* background only TS distributions.\n",
    "* signal injections (flux vs. n_injected above)\n",
    "* find point where you make \"discovery\" and are \"sensitive\"\n",
    "* then look at real data.  What is your TS, where does it land relative to these distributions?  Did you discover anything?"
   ]
  },
  {
   "cell_type": "code",
   "execution_count": null,
   "metadata": {},
   "outputs": [],
   "source": []
  }
 ],
 "metadata": {
  "kernelspec": {
   "display_name": "Python 3",
   "language": "python",
   "name": "python3"
  },
  "language_info": {
   "codemirror_mode": {
    "name": "ipython",
    "version": 3
   },
   "file_extension": ".py",
   "mimetype": "text/x-python",
   "name": "python",
   "nbconvert_exporter": "python",
   "pygments_lexer": "ipython3",
   "version": "3.8.6"
  }
 },
 "nbformat": 4,
 "nbformat_minor": 4
}

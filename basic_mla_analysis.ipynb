{
 "cells": [
  {
   "cell_type": "code",
   "execution_count": 12,
   "metadata": {},
   "outputs": [],
   "source": [
    "import copy\n",
    "import numpy as np\n",
    "import matplotlib.pyplot as plt\n",
    "import time"
   ]
  },
  {
   "cell_type": "markdown",
   "metadata": {},
   "source": [
    "While in development, MLA is not available via pip, so to import it, you need to add the location of the repository on your local machine to the python path."
   ]
  },
  {
   "cell_type": "code",
   "execution_count": 2,
   "metadata": {},
   "outputs": [
    {
     "name": "stdout",
     "output_type": "stream",
     "text": [
      "Processing ./mla\n",
      "Requirement already satisfied: numpy in /opt/conda/lib/python3.8/site-packages (from mla-thejevans==0.0.1) (1.18.5)\n",
      "Requirement already satisfied: scipy in /opt/conda/lib/python3.8/site-packages (from mla-thejevans==0.0.1) (1.5.3)\n",
      "Building wheels for collected packages: mla-thejevans\n",
      "  Building wheel for mla-thejevans (setup.py) ... \u001b[?25ldone\n",
      "\u001b[?25h  Created wheel for mla-thejevans: filename=mla_thejevans-0.0.1-py3-none-any.whl size=28911 sha256=4e0a7f62159c3e5e1169273b9a0f09424044ea2d8ebf9a86f7e8b099894ffb14\n",
      "  Stored in directory: /tmp/pip-ephem-wheel-cache-tsb_z5pz/wheels/8c/48/b3/9140259f9b0da6559e99825e8695b86a19be0cff6f5377a4a1\n",
      "Successfully built mla-thejevans\n",
      "Installing collected packages: mla-thejevans\n",
      "Successfully installed mla-thejevans-0.0.1\n"
     ]
    }
   ],
   "source": [
    "import os\n",
    "import sys\n",
    "# Install a pip package in the current Jupyter kernel\n",
    "import sys\n",
    "!{sys.executable} -m pip install ~/mla\n",
    "import mla"
   ]
  },
  {
   "cell_type": "markdown",
   "metadata": {},
   "source": [
    "The `EventModel` class in this implementation uses data, simulation, and grl numpy arrays in the same format that Michael used in the workshops he ran. We need to load in some arrays to do an analysis."
   ]
  },
  {
   "cell_type": "code",
   "execution_count": 3,
   "metadata": {},
   "outputs": [
    {
     "name": "stdout",
     "output_type": "stream",
     "text": [
      "Keys available in data:\n",
      "['angErr', 'azi', 'dec', 'event', 'logE', 'ra', 'run', 'subevent', 'time', 'zen']\n",
      "\n",
      "Reduced the number of simulation events from  11595414 to 100000\n",
      "Keys available in simulation:\n",
      "['angErr', 'azi', 'dec', 'event', 'logE', 'ow', 'ra', 'run', 'subevent', 'time', 'trueDec', 'trueE', 'trueRa', 'zen']\n",
      "\n"
     ]
    }
   ],
   "source": [
    "import glob\n",
    "def read(filelist):\n",
    "    data = []\n",
    "    for f in sorted(filelist):\n",
    "        x = np.load(f)\n",
    "        if len(data) == 0: data = x.copy()\n",
    "        else: data = np.concatenate([data, x])\n",
    "    return data\n",
    "\n",
    "def read_mc(file, n_keep = 50000):\n",
    "    sim = np.load(file)\n",
    "    # Reduce the number of events in the simulation\n",
    "    # to a manageable level.\n",
    "    N = len(sim)\n",
    "    sim = np.random.choice(sim, n_keep)    # cut down to n_keep events\n",
    "    sim['ow'] /= float(n_keep)/float(N)    # correct the weights\n",
    "    print(\"Reduced the number of simulation events from \",\n",
    "         \"{} to {}\".format(N, len(sim)))\n",
    "    # Show the possible keys available here:\n",
    "    print(\"Keys available in simulation:\")\n",
    "    print(sorted(sim.dtype.names))\n",
    "    print()\n",
    "    return sim\n",
    "\n",
    "DATA_PATH = \"/home/jovyan/data2\"\n",
    "\n",
    "# Read in all of the data files\n",
    "data_files = DATA_PATH + \"/IC86_*exp.npy\"\n",
    "data = read(glob.glob(data_files))\n",
    "print(\"Keys available in data:\")\n",
    "print(sorted(data.dtype.names))\n",
    "print()\n",
    "\n",
    "# Read in the MC files \n",
    "sim_files = DATA_PATH + \"/IC86_2012_MC.npy\"\n",
    "sim = read_mc(sim_files, n_keep=100000)\n",
    "\n",
    "# Read in the GRL file\n",
    "grl = np.load(DATA_PATH + \"/IC86_2012_GRL.npy\")"
   ]
  },
  {
   "cell_type": "markdown",
   "metadata": {},
   "source": [
    "To start an analysis, you need a `Source`, an `EventModel`, and a `TestStatistic`. Let's start with the `Source`. Currently, our software supports point-source objects only. "
   ]
  },
  {
   "cell_type": "code",
   "execution_count": 4,
   "metadata": {},
   "outputs": [],
   "source": [
    "source = mla.sources.Source(\n",
    "    name=\"TXS\",\n",
    "    ra=np.deg2rad(77.3583),\n",
    "    dec=np.deg2rad(5.6931)\n",
    ")"
   ]
  },
  {
   "cell_type": "markdown",
   "metadata": {},
   "source": [
    "Next, we need an `EventModel`. This is an object that holds everything that will be implemented by Michael's public data package. Once that is ready, We will make an `EventModel` object that interfaces with it, leaving the rest of our package the same.\n",
    "\n",
    "The only `EventModel` that is currently ready-to-go is the `I3EventModel` class. Building this object is probably the most complicated part of starting an analysis. Here is a list of parameters that it takes:\n",
    "\n",
    "Required:\n",
    "- `source`: A `Source` object\n",
    "- `data`: A numpy array of real events to be used for background event generation\n",
    "- `sim`: A numpy array of monte-carlo events to be used for signal event generation\n",
    "- `grl`: A numpy array of good runs to be used to select times of generated events\n",
    "- `gamma`: A number representing the assumed spectral index for calculating simulation event weights\n",
    "- `background_time_profile`: An object that is a subclass of `GenericProfile` representing the temporal PDF of the background events\n",
    "- `signal_time_profile`: A similar object for the signal events\n",
    "\n",
    "Optional:\n",
    "- `sampling_width`: The width in radians of a declination band used to filter out events far from the source to reduce computation time (default: 3 deg)\n",
    "- `background_sin_dec_bins`: Either a number of equally spaced bins to use, or an array of bin edges for creating a background spatial pdf in sin(declination) (default: 500)\n",
    "- `background_window`: A length of time (in MJD) to use to sample background events from prior to the time window of interest. Useful for analyses with short time windows that likely have more signal than usual. (default: 14)\n",
    "- `withinwindow`: A flag for choosing whether to use the events in the time window of interest as background, or to use the value in `background_window` to select a differnt background window. (default: False)\n",
    "- `signal_sin_dec_bins`: Either a number of equally spaced bins to use, or an array of bin edges for creating a grid of energy splines (default: 50)\n",
    "- `log_energy_bins`: Either a number of equally spaced bins to use, or an array of bin edges for creating a grid of energy splines (default: 50)\n",
    "- `gamma_bins`: Either a number of equally spaced bins to use, or an array of bin edges for creating a spline interpolation at each bin in the grid (default: 50)\n",
    "- `verbose`: A flag for printing status information while building the event model. (default: False)\n",
    "\n",
    "Before we can build an `I3EventModel`, we need time profiles for signal and background. We have these built-in options for time profiles:\n",
    "- `UniformProfile`: Takes a `start` in MJD and a `length` in MJD and represents a uniform distribution between those times.\n",
    "- `GaussProfile`: Takes a `mean` in MJD and a `sigma` in MJD and represents a normal distribution with those parameters.\n",
    "- `CustomProfile`: Takes a 1D-histogram in time as the shape of the pdf and an `offset` as a time shift of the histogram and represents a step-function distribution with the given parameters."
   ]
  },
  {
   "cell_type": "code",
   "execution_count": 5,
   "metadata": {},
   "outputs": [
    {
     "name": "stderr",
     "output_type": "stream",
     "text": [
      "/opt/conda/lib/python3.8/site-packages/mla/models.py:155: RuntimeWarning: invalid value encountered in greater\n",
      "  good = np.isfinite(ratio[i]) & (ratio[i] > 0)\n"
     ]
    }
   ],
   "source": [
    "start = 56224\n",
    "length = 158\n",
    "background_time_profile = mla.time_profiles.UniformProfile(start, length)\n",
    "signal_time_profile = mla.time_profiles.UniformProfile(start, length)\n",
    "\n",
    "model = mla.models.I3EventModel(\n",
    "    source=source,\n",
    "    data=data,\n",
    "    sim=sim,\n",
    "    grl=grl,\n",
    "    gamma=-2,\n",
    "    background_time_profile=background_time_profile,\n",
    "    signal_time_profile=signal_time_profile,\n",
    "    sampling_width=np.radians(5),\n",
    "    withinwindow=True,\n",
    ")"
   ]
  },
  {
   "cell_type": "markdown",
   "metadata": {},
   "source": [
    "Finally, we need a `TestStatistic`. Currently, only a standard signal-over-background LLH test statistic is defined, `LLHTestStatistic`. This class is very flexible, though. During initialization, you give a list of likelihood terms as parameters. You can give as many or as few as you like, and in whatever order you like. Currently there are four available terms:\n",
    "\n",
    "- `SpatialTerm`: Takes no parameters. Uses the spatial pdfs defined in the `EventModel` to calculate a spatial signal-over-background ratio (sob)\n",
    "- `TimeTerm`: Takes as parameters both a signal and background time profile so that you can attempt to fit using different profiles than you gave to the `EventModel` for injecting events. Currently, this term allows for the signal time profile parameters to be fitting parameters, but not the background parameters.\n",
    "- `I3EnergyTerm`: Only works with `I3EventModel` models. Takes a default spectral index (`gamma`) as a parameter. This value can be a fitting parameter.\n",
    "- `threeml.test_statistics.ThreeMLEnergyTerm`: Only works with `threeml.models.ThreeMLEventModel` models. Takes no parameters."
   ]
  },
  {
   "cell_type": "code",
   "execution_count": 6,
   "metadata": {},
   "outputs": [],
   "source": [
    "bg_fit_time_pro = copy.deepcopy(background_time_profile)\n",
    "sig_fit_time_pro = copy.deepcopy(signal_time_profile)\n",
    "        \n",
    "ts = mla.test_statistics.LLHTestStatistic([\n",
    "    mla.test_statistics.SpatialTerm(),\n",
    "    mla.test_statistics.TimeTerm(\n",
    "        bg_fit_time_pro,\n",
    "        sig_fit_time_pro,\n",
    "    ),\n",
    "    mla.test_statistics.I3EnergyTerm(gamma=-2),\n",
    "])"
   ]
  },
  {
   "cell_type": "markdown",
   "metadata": {},
   "source": [
    "The `LLHTestStatistic` class also has $n_s$ as an optional fitting parameter. If you do not choose to fit it, the class will use a newton methods approach to find the best $n_s$ in every fitting step, which is generally faster.\n",
    "\n",
    "From here, we can put together what we have built into an `Analysis` object. The analysis should be static object to be shared between threads in multithreaded applications or sent as a pickle file to cluster jobs. Initialization is straightforward:"
   ]
  },
  {
   "cell_type": "code",
   "execution_count": 7,
   "metadata": {},
   "outputs": [],
   "source": [
    "analysis = mla.analysis.Analysis(\n",
    "    model=model,\n",
    "    test_statistic=ts,\n",
    "    source=source,\n",
    ")"
   ]
  },
  {
   "cell_type": "markdown",
   "metadata": {},
   "source": [
    "Now that you have an `Analysis`, you can start on your analysis!\n",
    "\n",
    "There are four basic functions available in the `analysis` module for this:\n",
    "- `produce_trial`: Takes an `Analysis` and optional parameters for injecting signal, either a `flux_norm` (time-integrated flux normalization) or `n_signal_observed` to set the number of signal events injected. Returns a numpy array of combined signal and background events.\n",
    "- `evaluate_ts`: Takes an `Analysis`, `events`, and `params` (manually-set fitting parameters). Returns a float test statistic value for the given events and parameters.\n",
    "- `minimize_ts`: Takes an `Analysis`, `events`, and optionally `test_params` and `bounds`. Uses an optional `minimizer` (`scipy.optimize.minimize` by default) to minimize the `test_params` within the `bounds`. Returns a dictionary of the bests test statistic value and the best-fit parameters (always returns best-fit $n_s$, even if it is not a fitting parameter).\n",
    "- `produce_and_minimize`: Takes an `Analysis`, a number of trials to run (`n_trials`), and optional parameters for `produce_trial` and `minimize_ts`. Returns a list of `minimize_ts` results, one for each trial.\n",
    "\n",
    "Parameters should be a structured numpy array, with `dtype` names matching the expected variable names in the test statistic terms. Examples:\n",
    "- for any test statistic: `ns`\n",
    "- for `I3EnergyTerm`: `gamma`\n",
    "- for `TimeTerm`: `mean`, `sigma`, `start`, `length`, `offset`\n",
    "\n",
    "Let's produce a trial and then minimize the test statistic:"
   ]
  },
  {
   "cell_type": "code",
   "execution_count": 8,
   "metadata": {},
   "outputs": [
    {
     "name": "stdout",
     "output_type": "stream",
     "text": [
      "49648\n",
      "[(    120777, 37162196, 2, 0.25330531, 0.47434135, 4.58645356, 2.04474551, 56261.93216098, 3.18235389, 0.00560971, 0.45675262)\n",
      " (    120866, 74659310, 0, 4.6454422 , 0.55796283, 3.29387435, 2.12780304, 56275.08430921, 2.97095924, 0.01005268, 0.5294591 )\n",
      " (    122211, 79428620, 0, 3.05595652, 0.24965006, 1.60209049, 1.82078236, 56266.60661619, 3.20245258, 0.01326552, 0.24706489)\n",
      " ...\n",
      " (1102906735,    26618, 0, 1.36128858, 0.09474498, 1.12395724, 1.6462274 , 56265.19201804, 3.98282088, 0.00492628, 0.0946033 )\n",
      " (1102904674,   103803, 0, 1.34943495, 0.09548157, 6.07116475, 1.63789548, 56363.98858885, 3.95107386, 0.00239901, 0.09533656)\n",
      " (1107002762,      304, 0, 1.35002428, 0.10169479, 0.92735274, 1.60644703, 56359.27650644, 5.72895899, 0.00193917, 0.10151959)]\n"
     ]
    },
    {
     "data": {
      "image/png": "[encoded data removed]",
      "text/plain": [
       "<Figure size 432x288 with 1 Axes>"
      ]
     },
     "metadata": {
      "needs_background": "light"
     },
     "output_type": "display_data"
    },
    {
     "name": "stdout",
     "output_type": "stream",
     "text": [
      "[(730.47534469, 95.343304)]\n"
     ]
    }
   ],
   "source": [
    "trial = mla.analysis.produce_trial(\n",
    "    analysis,\n",
    "    n_signal_observed=100,\n",
    ")\n",
    "print(len(trial))\n",
    "print(trial)\n",
    "# Plot the trial events\n",
    "plt.scatter(trial['time'], trial['logE'])\n",
    "plt.xlabel('time (MJD)')\n",
    "plt.ylabel(r'$log_{10}E$')\n",
    "plt.show()\n",
    "\n",
    "# Generate parameter array for minimizing\n",
    "## Here: minimize both spectral index (gamma) and n_s\n",
    "#test_params = mla.generate_params(\n",
    "#            gamma=-2,\n",
    "#            ns=90,\n",
    "#        )\n",
    "#bounds = [(-4, -1), (0, 150)]\n",
    "\n",
    "## Here: just miminize n_s\n",
    "test_params = mla.generate_params(\n",
    "            ns=90\n",
    ")\n",
    "bounds = [(0, 150)]\n",
    "\n",
    "result = mla.analysis.minimize_ts(\n",
    "    analysis=analysis,\n",
    "    events=trial,\n",
    "    bounds=bounds,\n",
    "    test_params=test_params,\n",
    "    as_array=True,\n",
    "\n",
    ")\n",
    "\n",
    "print(result)"
   ]
  },
  {
   "cell_type": "markdown",
   "metadata": {},
   "source": [
    "Now, lets use `produce_and_minimize` to do the same with 10 trials:"
   ]
  },
  {
   "cell_type": "code",
   "execution_count": 9,
   "metadata": {},
   "outputs": [
    {
     "name": "stdout",
     "output_type": "stream",
     "text": [
      "(640.14406414, 93.11306539)\n",
      "(734.27043887, 105.25083136)\n",
      "(661.17472469, 97.56911288)\n",
      "(679.80215189, 97.18237199)\n",
      "(671.06044946, 102.13665746)\n",
      "(622.78848457, 101.78951322)\n",
      "(689.3207295, 103.0551458)\n",
      "(625.48510804, 92.43072324)\n",
      "(695.1749967, 97.78861629)\n",
      "(655.61103782, 101.98078521)\n"
     ]
    }
   ],
   "source": [
    "results = mla.produce_and_minimize(\n",
    "    analysis=analysis,\n",
    "    n_trials=10,\n",
    "    n_signal_observed=100,\n",
    "    bounds=bounds,\n",
    "    test_params=test_params,\n",
    "    as_array=True,\n",
    ")\n",
    "\n",
    "for result in results:\n",
    "    print(result)"
   ]
  },
  {
   "cell_type": "code",
   "execution_count": 25,
   "metadata": {},
   "outputs": [
    {
     "name": "stdout",
     "output_type": "stream",
     "text": [
      "Producing 15000 trials n_inj = 50\n",
      "Producing 15000 trials n_inj = 10\n",
      "Producing 15000 trials n_inj = 5\n",
      "Producing 75000 bg only trials\n",
      "This simulation took 08:22:55 to complete 120000 trials.\n"
     ]
    }
   ],
   "source": [
    "# Produce and minimize n trials, then plot the ts distribution\n",
    "\n",
    "# Enter an integer value for the number of trials you want for...\n",
    "# (1) Trials involving injected signal\n",
    "n_inj_trials = 15000\n",
    "\n",
    "# (2) Background only trials\n",
    "n_bkg_trials = 75000\n",
    "\n",
    "# Get a timestamp before running to use later\n",
    "t_initial = time.time()\n",
    "\n",
    "print(\"Producing \" + str(n_inj_trials) + \" trials n_inj = 50\")\n",
    "best_fit_arr_50 = mla.produce_and_minimize(\n",
    "    analysis=analysis,\n",
    "    n_trials=n_inj_trials,\n",
    "    n_signal_observed=50,\n",
    "    bounds=bounds,\n",
    "    test_params=test_params,\n",
    "    as_array=True,\n",
    ")\n",
    "\n",
    "print(\"Producing \" + str(n_inj_trials) + \" trials n_inj = 10\")\n",
    "best_fit_arr_10 = mla.produce_and_minimize(\n",
    "    analysis=analysis,\n",
    "    n_trials=n_inj_trials,\n",
    "    n_signal_observed=10,\n",
    "    bounds=bounds,\n",
    "    test_params=test_params,\n",
    "    as_array=True,\n",
    ")\n",
    "\n",
    "print(\"Producing \" + str(n_inj_trials) + \" trials n_inj = 5\")\n",
    "best_fit_arr_5 = mla.produce_and_minimize(\n",
    "    analysis=analysis,\n",
    "    n_trials=n_inj_trials,\n",
    "    n_signal_observed=5,\n",
    "    bounds=bounds,\n",
    "    test_params=test_params,\n",
    "    as_array=True,\n",
    ")\n",
    "\n",
    "print(\"Producing \" + str(n_bkg_trials) + \" bg only trials\")\n",
    "best_fit_arr_bg = mla.produce_and_minimize(\n",
    "    analysis=analysis,\n",
    "    n_trials=n_bkg_trials,\n",
    "    n_signal_observed=0,\n",
    "    bounds=bounds,\n",
    "    test_params=test_params,\n",
    "    as_array=True,\n",
    ")\n",
    "\n",
    "# Get another timestamp and see how long the simulation took\n",
    "t_final = time.time()\n",
    "t_total = t_final - t_initial\n",
    "time_format = time.strftime(\"%H:%M:%S\", time.gmtime(t_total))\n",
    "tri_tot = (3 * n_inj_trials) + n_bkg_trials\n",
    "print(\"This simulation took \" + time_format + \" to complete \" + str(tri_tot) + \" trials.\")\n",
    "print(t_total)"
   ]
  },
  {
   "cell_type": "code",
   "execution_count": 27,
   "metadata": {},
   "outputs": [],
   "source": [
    "ts_bg, ns_bg = zip(*best_fit_arr_bg)\n",
    "ts_50, ns_50 = zip(*best_fit_arr_50)\n",
    "ts_10, ns_10 = zip(*best_fit_arr_10)\n",
    "ts_5, ns_5 = zip(*best_fit_arr_5)\n"
   ]
  },
  {
   "cell_type": "code",
   "execution_count": 28,
   "metadata": {},
   "outputs": [
    {
     "data": {
      "image/png": "[encoded data removed]",
      "text/plain": [
       "<Figure size 720x432 with 1 Axes>"
      ]
     },
     "metadata": {
      "needs_background": "light"
     },
     "output_type": "display_data"
    }
   ],
   "source": [
    "# Plot the signal and background LLHs\n",
    "fig, ax = plt.subplots(figsize=(10,6))\n",
    "bins = np.linspace(-5, 400, 150)\n",
    "\n",
    "ax.hist(ts_bg,\n",
    "        bins = bins,\n",
    "        weights = np.ones_like(ts_bg)/len(ts_bg),\n",
    "        histtype = 'step',\n",
    "        color = 'k',\n",
    "        linewidth = 3,\n",
    "        alpha=0.5,\n",
    "        label = r'N = 0',\n",
    "       )\n",
    "\n",
    "ax.hist(ts_50,\n",
    "        bins = bins,\n",
    "        weights = np.ones_like(ts_50)/len(ts_50),\n",
    "        histtype = 'step',\n",
    "        linewidth = 3,\n",
    "        alpha = 0.7,\n",
    "        label = r'N = 50')\n",
    "\n",
    "ax.hist(ts_10,\n",
    "        bins = bins,\n",
    "        weights = np.ones_like(ts_10)/len(ts_10),\n",
    "        histtype = 'step',\n",
    "        linewidth = 3,\n",
    "        alpha = 0.7,\n",
    "        label = r'N = 10')\n",
    "\n",
    "ax.hist(ts_5,\n",
    "        bins = bins,\n",
    "        weights = np.ones_like(ts_5)/len(ts_5),\n",
    "        histtype = 'step',\n",
    "        linewidth = 3,\n",
    "        alpha = 0.7,\n",
    "        label = r'N = 5')\n",
    "\n",
    "ax.legend(loc='upper right', fontsize=16,)\n",
    "plt.yscale('log')\n",
    "ax.grid(alpha=0.25)\n",
    "#ax.set_xlim(bins.min(), bins.max())\n",
    "ax.set_xlabel(\"TS\", fontsize=16)\n",
    "ax.set_ylabel(\"Fraction of Trials\", fontsize=16)\n",
    "ax.tick_params(which='both', labelsize=16)"
   ]
  },
  {
   "cell_type": "code",
   "execution_count": 29,
   "metadata": {},
   "outputs": [
    {
     "data": {
      "image/png": "[encoded data removed]",
      "text/plain": [
       "<Figure size 720x432 with 1 Axes>"
      ]
     },
     "metadata": {
      "needs_background": "light"
     },
     "output_type": "display_data"
    }
   ],
   "source": [
    "# Plot the best fit ns\n",
    "fig, ax = plt.subplots(figsize=(10,6))\n",
    "bins = np.linspace(-5, 60, 150)\n",
    "\n",
    "ax.hist(ns_bg,\n",
    "        bins = bins,\n",
    "        weights = np.ones_like(ns_bg)/len(ns_bg),\n",
    "        histtype = 'step',\n",
    "        color = 'k',\n",
    "        linewidth = 3,\n",
    "        alpha=0.5,\n",
    "        label = r'N = 0',\n",
    "       )\n",
    "\n",
    "ax.hist(ns_50,\n",
    "        bins = bins,\n",
    "        weights = np.ones_like(ns_50)/len(ns_50),\n",
    "        histtype = 'step',\n",
    "        linewidth = 3,\n",
    "        alpha = 0.7,\n",
    "        label = r'N = 50')\n",
    "\n",
    "ax.hist(ns_10,\n",
    "        bins = bins,\n",
    "        weights = np.ones_like(ns_10)/len(ns_10),\n",
    "        histtype = 'step',\n",
    "        linewidth = 3,\n",
    "        alpha = 0.7,\n",
    "        label = r'N = 10')\n",
    "\n",
    "ax.hist(ns_5,\n",
    "        bins = bins,\n",
    "        weights = np.ones_like(ns_5)/len(ns_5),\n",
    "        histtype = 'step',\n",
    "        linewidth = 3,\n",
    "        alpha = 0.7,\n",
    "        label = r'N = 5')\n",
    "\n",
    "ax.legend(loc='upper right', fontsize=16,)\n",
    "plt.yscale('log')\n",
    "ax.grid(alpha=0.25)\n",
    "#ax.set_xlim(bins.min(), bins.max())\n",
    "ax.set_xlabel(\"NS\", fontsize=16)\n",
    "ax.set_ylabel(\"Fraction of Trials\", fontsize=16)\n",
    "ax.tick_params(which='both', labelsize=16)"
   ]
  },
  {
   "cell_type": "markdown",
   "metadata": {},
   "source": [
    "Things to do:\n",
    "* bring in 7 yrs of data (Erik will provide conversion from csv to npy tool)\n",
    "* currently, this uses a 158 time window, want to use ALL data in a uniform time profile.\n",
    "* n_injected here is as \"n events\" -> option to use signal normalization\n",
    "\n",
    "Starting to setup an analysis\n",
    "* background only TS distributions.\n",
    "* signal injections (flux vs. n_injected above)\n",
    "* find point where you make \"discovery\" and are \"sensitive\"\n",
    "* then look at real data.  What is your TS, where does it land relative to these distributions?  Did you discovery anything?"
   ]
  },
  {
   "cell_type": "code",
   "execution_count": null,
   "metadata": {},
   "outputs": [],
   "source": []
  }
 ],
 "metadata": {
  "kernelspec": {
   "display_name": "Python 3",
   "language": "python",
   "name": "python3"
  },
  "language_info": {
   "codemirror_mode": {
    "name": "ipython",
    "version": 3
   },
   "file_extension": ".py",
   "mimetype": "text/x-python",
   "name": "python",
   "nbconvert_exporter": "python",
   "pygments_lexer": "ipython3",
   "version": "3.8.6"
  }
 },
 "nbformat": 4,
 "nbformat_minor": 4
}
